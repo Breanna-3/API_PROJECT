{
 "cells": [
  {
   "cell_type": "code",
   "execution_count": 11,
   "id": "4e3fd65e",
   "metadata": {},
   "outputs": [],
   "source": [
    "import requests\n",
    "import pandas as pd\n",
    "from tools import DB  # Ensure tools.py is in the same folder as this notebook\n"
   ]
  },
  {
   "cell_type": "markdown",
   "id": "aabd61a1",
   "metadata": {},
   "source": [
    "We now define a helper function to categorize genres, giving priority to \"Anime\" so if works regardless of capital letters."
   ]
  },
  {
   "cell_type": "code",
   "execution_count": 12,
   "id": "0d91f325",
   "metadata": {},
   "outputs": [],
   "source": [
    "def determine_genre_tag(genres):\n",
    "    \"\"\"\n",
    "    Determines a simplified genre tag.\n",
    "    Returns 'Anime' if 'anime' is one of the genres (case-insensitive),\n",
    "    otherwise returns the first genre or 'Unknown' if no genres are provided.\n",
    "    \"\"\"\n",
    "    if not genres:\n",
    "        return \"Unknown\"\n",
    "    return \"Anime\" if \"anime\" in [g.lower() for g in genres] else genres[0]\n"
   ]
  },
  {
   "cell_type": "markdown",
   "id": "73dbecb1",
   "metadata": {},
   "source": [
    "We now set up the number of pages we want to fetch from TVmaze,\n",
    "initialize our database, and prepare a dictionary to store unique shows."
   ]
  },
  {
   "cell_type": "code",
   "execution_count": 13,
   "id": "8420701b",
   "metadata": {},
   "outputs": [],
   "source": [
    "NUM_PAGES = 100  # Number of pages to fetch from TVmaze (each ~250 shows)\n",
    "\n",
    "# Initialize database connection (data will be saved under the 'data' directory)\n",
    "db = DB(\"data\")\n",
    "\n",
    "# Create an empty dictionary to store unique shows\n",
    "all_shows = {}\n"
   ]
  },
  {
   "cell_type": "markdown",
   "id": "c62c5626",
   "metadata": {},
   "source": [
    "Now we loop through the TVmaze API pages and collect data.\n",
    "We check for duplicates and safely extract nested fields like network and country."
   ]
  },
  {
   "cell_type": "code",
   "execution_count": 14,
   "id": "5e1f7ff1",
   "metadata": {},
   "outputs": [
    {
     "name": "stdout",
     "output_type": "stream",
     "text": [
      "Fetching page 0 of popular shows...\n",
      "Fetching page 1 of popular shows...\n",
      "Fetching page 2 of popular shows...\n",
      "Fetching page 3 of popular shows...\n",
      "Fetching page 4 of popular shows...\n",
      "Fetching page 5 of popular shows...\n",
      "Fetching page 6 of popular shows...\n",
      "Fetching page 7 of popular shows...\n",
      "Fetching page 8 of popular shows...\n",
      "Fetching page 9 of popular shows...\n",
      "Fetching page 10 of popular shows...\n",
      "Fetching page 11 of popular shows...\n",
      "Fetching page 12 of popular shows...\n",
      "Fetching page 13 of popular shows...\n",
      "Fetching page 14 of popular shows...\n",
      "Fetching page 15 of popular shows...\n",
      "Fetching page 16 of popular shows...\n",
      "Fetching page 17 of popular shows...\n",
      "Fetching page 18 of popular shows...\n",
      "Fetching page 19 of popular shows...\n",
      "Fetching page 20 of popular shows...\n",
      "Fetching page 21 of popular shows...\n",
      "Fetching page 22 of popular shows...\n",
      "Fetching page 23 of popular shows...\n",
      "Fetching page 24 of popular shows...\n",
      "Fetching page 25 of popular shows...\n",
      "Fetching page 26 of popular shows...\n",
      "Fetching page 27 of popular shows...\n",
      "Fetching page 28 of popular shows...\n",
      "Fetching page 29 of popular shows...\n",
      "Fetching page 30 of popular shows...\n",
      "Fetching page 31 of popular shows...\n",
      "Fetching page 32 of popular shows...\n",
      "Fetching page 33 of popular shows...\n",
      "Fetching page 34 of popular shows...\n",
      "Fetching page 35 of popular shows...\n",
      "Fetching page 36 of popular shows...\n",
      "Fetching page 37 of popular shows...\n",
      "Fetching page 38 of popular shows...\n",
      "Fetching page 39 of popular shows...\n",
      "Fetching page 40 of popular shows...\n",
      "Fetching page 41 of popular shows...\n",
      "Fetching page 42 of popular shows...\n",
      "Fetching page 43 of popular shows...\n",
      "Fetching page 44 of popular shows...\n",
      "Fetching page 45 of popular shows...\n",
      "Fetching page 46 of popular shows...\n",
      "Fetching page 47 of popular shows...\n",
      "Fetching page 48 of popular shows...\n",
      "Fetching page 49 of popular shows...\n",
      "Fetching page 50 of popular shows...\n",
      "Fetching page 51 of popular shows...\n",
      "Fetching page 52 of popular shows...\n",
      "Fetching page 53 of popular shows...\n",
      "Fetching page 54 of popular shows...\n",
      "Fetching page 55 of popular shows...\n",
      "Fetching page 56 of popular shows...\n",
      "Fetching page 57 of popular shows...\n",
      "Fetching page 58 of popular shows...\n",
      "Fetching page 59 of popular shows...\n",
      "Fetching page 60 of popular shows...\n",
      "Fetching page 61 of popular shows...\n",
      "Fetching page 62 of popular shows...\n",
      "Fetching page 63 of popular shows...\n",
      "Fetching page 64 of popular shows...\n",
      "Fetching page 65 of popular shows...\n",
      "Fetching page 66 of popular shows...\n",
      "Fetching page 67 of popular shows...\n",
      "Fetching page 68 of popular shows...\n",
      "Fetching page 69 of popular shows...\n",
      "Fetching page 70 of popular shows...\n",
      "Fetching page 71 of popular shows...\n",
      "Fetching page 72 of popular shows...\n",
      "Fetching page 73 of popular shows...\n",
      "Fetching page 74 of popular shows...\n",
      "Fetching page 75 of popular shows...\n",
      "Fetching page 76 of popular shows...\n",
      "Fetching page 77 of popular shows...\n",
      "Fetching page 78 of popular shows...\n",
      "Fetching page 79 of popular shows...\n",
      "Fetching page 80 of popular shows...\n",
      "Fetching page 81 of popular shows...\n",
      "Fetching page 82 of popular shows...\n",
      "Fetching page 83 of popular shows...\n",
      "Fetching page 84 of popular shows...\n",
      "Fetching page 85 of popular shows...\n",
      "Fetching page 86 of popular shows...\n",
      "Fetching page 87 of popular shows...\n",
      "Fetching page 88 of popular shows...\n",
      "Fetching page 89 of popular shows...\n",
      "Fetching page 90 of popular shows...\n",
      "Fetching page 91 of popular shows...\n",
      "Fetching page 92 of popular shows...\n",
      "Fetching page 93 of popular shows...\n",
      "Fetching page 94 of popular shows...\n",
      "Fetching page 95 of popular shows...\n",
      "Fetching page 96 of popular shows...\n",
      "Fetching page 97 of popular shows...\n",
      "Fetching page 98 of popular shows...\n",
      "Fetching page 99 of popular shows...\n"
     ]
    }
   ],
   "source": [
    "# Loop through the defined number of pages\n",
    "for page in range(NUM_PAGES):\n",
    "    print(f\"Fetching page {page} of popular shows...\")\n",
    "\n",
    "    # Request shows for the current page\n",
    "    response = requests.get(f\"https://api.tvmaze.com/shows?page={page}\")\n",
    "\n",
    "    # Stop loop if the request fails\n",
    "    if response.status_code != 200:\n",
    "        print(f\"⚠️ Failed to fetch page {page}. Status code: {response.status_code}\")\n",
    "        break\n",
    "\n",
    "    # Process each show in the response\n",
    "    for show in response.json():\n",
    "        show_id = show['id']\n",
    "        if show_id in all_shows:\n",
    "            continue  # Skip if we've already seen this show\n",
    "\n",
    "        genres = show.get('genres', [])\n",
    "        network_info = show.get('network')\n",
    "\n",
    "        all_shows[show_id] = {\n",
    "            'id': show_id,\n",
    "            'name': show.get('name'),\n",
    "            'network': network_info['name'] if network_info else None,\n",
    "            'genre_tag': determine_genre_tag(genres),\n",
    "            'showType': show.get('type'),\n",
    "            'country': network_info['country']['name'] if network_info and network_info.get('country') else None,\n",
    "            'language': show.get('language'),\n",
    "            'premiered': show.get('premiered'),\n",
    "            'runtime': show.get('runtime'),\n",
    "            'rating': show['rating']['average'] if show.get('rating') and show['rating']['average'] is not None else None,\n",
    "            'image': show['image']['medium'] if show.get('image') and show['image'].get('medium') else None,\n",
    "            'summary': show.get('summary')\n",
    "        }\n"
   ]
  },
  {
   "cell_type": "markdown",
   "id": "e2c2af9d",
   "metadata": {},
   "source": [
    "Finally, we convert the collected data into a DataFrame and save it into the database."
   ]
  },
  {
   "cell_type": "code",
   "execution_count": 15,
   "id": "36fdd4f3",
   "metadata": {},
   "outputs": [
    {
     "name": "stdout",
     "output_type": "stream",
     "text": [
      "✅ Loaded 23259 shows from TVmaze with all columns.\n"
     ]
    }
   ],
   "source": [
    "# Convert the dictionary of shows into a pandas DataFrame\n",
    "df = pd.DataFrame(list(all_shows.values()))\n",
    "\n",
    "# Load the DataFrame into the SQLite database under the \"shows\" table\n",
    "db.load_from_dataframe(df, \"shows\")\n",
    "\n",
    "# Print confirmation\n",
    "print(f\"✅ Loaded {len(df)} shows from TVmaze with all columns.\")\n"
   ]
  }
 ],
 "metadata": {
  "kernelspec": {
   "display_name": "Python 3",
   "language": "python",
   "name": "python3"
  },
  "language_info": {
   "codemirror_mode": {
    "name": "ipython",
    "version": 3
   },
   "file_extension": ".py",
   "mimetype": "text/x-python",
   "name": "python",
   "nbconvert_exporter": "python",
   "pygments_lexer": "ipython3",
   "version": "3.12.1"
  }
 },
 "nbformat": 4,
 "nbformat_minor": 5
}
