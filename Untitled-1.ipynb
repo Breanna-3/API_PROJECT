{
 "cells": [
  {
   "cell_type": "code",
   "execution_count": null,
   "id": "7194d397",
   "metadata": {},
   "outputs": [],
   "source": [
    "# Cell 1: Imports and setup\n",
    "import requests\n",
    "import pandas as pd\n",
    "from tools import DB"
   ]
  },
  {
   "cell_type": "code",
   "execution_count": null,
   "id": "33988af3",
   "metadata": {},
   "outputs": [],
   "source": [
    "# Cell 2: Constants and helper functions\n",
    "NUM_PAGES = 100  # Number of TVmaze pages to fetch (each has ~250 shows)\n",
    "\n",
    "def determine_genre_tag(genres):\n",
    "    # Use \"Anime\" if any genre is anime, if not use the first genre or \"Unknown\" if empty\n",
    "    if not genres:\n",
    "        return \"Unknown\"\n",
    "    return \"Anime\" if \"anime\" in [g.lower() for g in genres] else genres[0]"
   ]
  },
  {
   "cell_type": "code",
   "execution_count": null,
   "id": "9ded8da8",
   "metadata": {},
   "outputs": [],
   "source": [
    "# Cell 3: DB helper and data structure\n",
    "db = DB(\"data\")\n",
    "all_shows = {}"
   ]
  },
  {
   "cell_type": "code",
   "execution_count": null,
   "id": "5bdde807",
   "metadata": {},
   "outputs": [],
   "source": [
    "# Cell 4: Fetch shows from multiple genres\n",
    "for page in range(NUM_PAGES):\n",
    "    print(f\"Fetching page {page} of popular shows...\")\n",
    "    response = requests.get(f\"https://api.tvmaze.com/shows?page={page}\")\n",
    "    if response.status_code != 200:\n",
    "        break # Stop if request fails\n",
    "    for show in response.json():\n",
    "        show_id = show['id']\n",
    "        if show_id in all_shows:\n",
    "            continue # Skip if already added\n",
    "        genres = show.get('genres', [])\n",
    "        # Store relevant show info\n",
    "        all_shows[show_id] = {\n",
    "            'id': show_id,\n",
    "            'name': show.get('name'),\n",
    "            'summary': show.get('summary'),\n",
    "            'image': show['image']['medium'] if show.get('image') else None,\n",
    "            'genres': ','.join(genres),\n",
    "            'genre_tag': determine_genre_tag(genres),\n",
    "            'showType': show.get('type', 'Unknown'),\n",
    "            'rating': show['rating']['average'] if show.get('rating') else None,\n",
    "            'premiered': show.get('premiered'),\n",
    "            'language': show.get('language'),\n",
    "            'runtime': show.get('runtime'),\n",
    "            'country': show['network']['country']['name'] if show.get('network') and show['network'].get('country') else None,\n",
    "            'network': show['network']['name'] if show.get('network') else None\n",
    "        }"
   ]
  },
  {
   "cell_type": "code",
   "execution_count": null,
   "id": "8c5de112",
   "metadata": {},
   "outputs": [],
   "source": [
    "# Cell 5: Convert to DataFrame and load into the database\n",
    "df = pd.DataFrame(list(all_shows.values()))\n",
    "db.load_from_dataframe(df, \"shows\")\n",
    "print(f\"✅ Loaded {len(df)} shows from TVmaze with showType.\")"
   ]
  }
 ],
 "metadata": {
  "language_info": {
   "name": "python"
  }
 },
 "nbformat": 4,
 "nbformat_minor": 5
}
